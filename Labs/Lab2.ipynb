{
  "nbformat": 4,
  "nbformat_minor": 0,
  "metadata": {
    "colab": {
      "provenance": [],
      "include_colab_link": true
    },
    "kernelspec": {
      "name": "python3",
      "display_name": "Python 3"
    },
    "language_info": {
      "name": "python"
    }
  },
  "cells": [
    {
      "cell_type": "markdown",
      "metadata": {
        "id": "view-in-github",
        "colab_type": "text"
      },
      "source": [
        "<a href=\"https://colab.research.google.com/github/yashwalvekar/DDS/blob/main/Labs/Lab2.ipynb\" target=\"_parent\"><img src=\"https://colab.research.google.com/assets/colab-badge.svg\" alt=\"Open In Colab\"/></a>"
      ]
    },
    {
      "cell_type": "markdown",
      "source": [
        "# 🧪 Lab 2: Infix to Postfix Conversion using Stack\n",
        "\n",
        "## 🎯 Objective:\n",
        "- Understand how expressions are evaluated\n",
        "- Convert an **Infix expression** (like `A + B * C`) to **Postfix** (like `ABC*+`)\n",
        "- Use a **stack** to handle operators and parentheses\n",
        "\n",
        "📘 Based on 303105202 - Design of Data Structures Lab\n"
      ],
      "metadata": {
        "id": "J31jB3hdIGs_"
      }
    },
    {
      "cell_type": "code",
      "source": [
        "# ✅ Python: Infix to Postfix conversion using stack\n",
        "\n",
        "def precedence(op):\n",
        "    if op == '+' or op == '-':\n",
        "        return 1\n",
        "    elif op == '*' or op == '/':\n",
        "        return 2\n",
        "    return 0\n",
        "\n",
        "def infix_to_postfix(expression):\n",
        "    result = \"\"\n",
        "    stack = []\n",
        "\n",
        "    for char in expression:\n",
        "        if char.isalnum():  # operand\n",
        "            result += char\n",
        "        elif char == '(':\n",
        "            stack.append(char)\n",
        "        elif char == ')':\n",
        "            while stack and stack[-1] != '(':\n",
        "                result += stack.pop()\n",
        "            stack.pop()  # Remove '('\n",
        "        else:  # operator\n",
        "            while stack and precedence(stack[-1]) >= precedence(char):\n",
        "                result += stack.pop()\n",
        "            stack.append(char)\n",
        "\n",
        "    while stack:\n",
        "        result += stack.pop()\n",
        "\n",
        "    return result\n",
        "\n",
        "# 🔍 Test\n",
        "expr = \"A+B*(C-D)/E\"\n",
        "print(\"Infix  :\", expr)\n",
        "print(\"Postfix:\", infix_to_postfix(expr))\n"
      ],
      "metadata": {
        "id": "2IuIeMIWIJ9m"
      },
      "execution_count": null,
      "outputs": []
    },
    {
      "cell_type": "code",
      "source": [
        "# ✅ Write C code to file for infix to postfix\n",
        "c_code = \"\"\"\n",
        "#include <stdio.h>\n",
        "#include <ctype.h>\n",
        "#include <string.h>\n",
        "\n",
        "#define SIZE 100\n",
        "\n",
        "char stack[SIZE];\n",
        "int top = -1;\n",
        "\n",
        "void push(char ch) {\n",
        "    stack[++top] = ch;\n",
        "}\n",
        "\n",
        "char pop() {\n",
        "    return stack[top--];\n",
        "}\n",
        "\n",
        "char peek() {\n",
        "    return stack[top];\n",
        "}\n",
        "\n",
        "int is_empty() {\n",
        "    return top == -1;\n",
        "}\n",
        "\n",
        "int precedence(char op) {\n",
        "    if(op == '+' || op == '-') return 1;\n",
        "    if(op == '*' || op == '/') return 2;\n",
        "    return 0;\n",
        "}\n",
        "\n",
        "void infix_to_postfix(char* exp) {\n",
        "    char result[SIZE] = \"\";\n",
        "    int k = 0;\n",
        "\n",
        "    for(int i = 0; exp[i] != '\\\\0'; i++) {\n",
        "        char ch = exp[i];\n",
        "\n",
        "        if (isalnum(ch)) {\n",
        "            result[k++] = ch;\n",
        "        } else if (ch == '(') {\n",
        "            push(ch);\n",
        "        } else if (ch == ')') {\n",
        "            while (!is_empty() && peek() != '(')\n",
        "                result[k++] = pop();\n",
        "            pop();  // remove '('\n",
        "        } else {\n",
        "            while (!is_empty() && precedence(peek()) >= precedence(ch))\n",
        "                result[k++] = pop();\n",
        "            push(ch);\n",
        "        }\n",
        "    }\n",
        "\n",
        "    while (!is_empty())\n",
        "        result[k++] = pop();\n",
        "\n",
        "    result[k] = '\\\\0';\n",
        "    printf(\"Postfix: %s\\\\n\", result);\n",
        "}\n",
        "\n",
        "int main() {\n",
        "    char expr[] = \"A+B*(C-D)/E\";\n",
        "    printf(\"Infix: %s\\\\n\", expr);\n",
        "    infix_to_postfix(expr);\n",
        "    return 0;\n",
        "}\n",
        "\"\"\"\n",
        "\n",
        "with open(\"lab2_infix_postfix.c\", \"w\") as f:\n",
        "    f.write(c_code)\n"
      ],
      "metadata": {
        "id": "ckyewGqSIlWs"
      },
      "execution_count": null,
      "outputs": []
    },
    {
      "cell_type": "code",
      "source": [
        "!gcc lab2_infix_postfix.c -o lab2"
      ],
      "metadata": {
        "id": "EzrBiQV_IrHh"
      },
      "execution_count": null,
      "outputs": []
    },
    {
      "cell_type": "code",
      "source": [
        "!./lab2"
      ],
      "metadata": {
        "id": "5chlU4ENIsmo"
      },
      "execution_count": null,
      "outputs": []
    },
    {
      "cell_type": "markdown",
      "source": [
        "| Concept         | Description                                                         |\n",
        "| --------------- | ------------------------------------------------------------------- |\n",
        "| **Operand**     | Any variable or number (A, B, 1, 2, etc.) — goes directly to output |\n",
        "| **Operator**    | Symbol like `+`, `-`, `*`, `/` — needs precedence handling          |\n",
        "| **Stack**       | Used to **store operators and parentheses** temporarily             |\n",
        "| **Precedence**  | `*` and `/` have higher precedence than `+` and `-`                 |\n",
        "| **Parentheses** | `(` is pushed to stack and popped when `)` is found                 |\n"
      ],
      "metadata": {
        "id": "dUqqFC1zJGU8"
      }
    },
    {
      "cell_type": "markdown",
      "source": [
        "### 🧪 Example:\n",
        "\n",
        "Input (Infix):\n",
        "\n",
        "A + B * (C - D) / E\n",
        "\n",
        "Steps:\n",
        "\n",
        "    Push +, *, ( into stack\n",
        "\n",
        "    C, D → to output\n",
        "\n",
        "    C D - then multiply by *\n",
        "\n",
        "    Divide by E, then add A\n",
        "\n",
        "Postfix Output:\n",
        "\n",
        "A B C D - * E / +"
      ],
      "metadata": {
        "id": "9nMj3qU9J2Ht"
      }
    },
    {
      "cell_type": "markdown",
      "source": [
        "| Step | Char | Action                          | Stack          | Result     |\n",
        "| ---- | ---- | ------------------------------- | -------------- | ---------- |\n",
        "| 1    | A    | Add to result                   | \\[]            | A          |\n",
        "| 2    | +    | Push to stack                   | \\[+]           | A          |\n",
        "| 3    | B    | Add to result                   | \\[+]           | AB         |\n",
        "| 4    | \\*   | Push to stack                   | \\[+, \\*]       | AB         |\n",
        "| 5    | (    | Push to stack                   | \\[+, \\*, (]    | AB         |\n",
        "| 6    | C    | Add to result                   | \\[+, \\*, (]    | ABC        |\n",
        "| 7    | -    | Push to stack                   | \\[+, \\*, (, -] | ABC        |\n",
        "| 8    | D    | Add to result                   | \\[+, \\*, (, -] | ABCD       |\n",
        "| 9    | )    | Pop until (                     | \\[+, \\*]       | ABCD-      |\n",
        "| 10   | /    | Pop \\* (higher) → then push `/` | \\[+]           | ABCD-\\*    |\n",
        "| 11   | E    | Add to result                   | \\[+, /]        | ABCD-\\*E   |\n",
        "| 12   | End  | Pop / then +                    | \\[]            | ABCD-\\*E/+ |\n"
      ],
      "metadata": {
        "id": "9tVb1BQIQsBP"
      }
    },
    {
      "cell_type": "markdown",
      "source": [
        "---\n",
        "\n",
        "## ✅ Summary\n",
        "\n",
        "- Infix expressions must be converted to postfix to evaluate using a stack.\n",
        "- Operators and parentheses are handled with **precedence rules**.\n",
        "- Implemented in both Python and C.\n",
        "- Next: Lab 3 – Evaluate Postfix Expression\n",
        "\n",
        "🧪 Update your lab record with:\n",
        "- Code (Python and C)\n",
        "- Dry run for an expression like: `A+B*(C-D)/E`\n",
        "- Output screenshot or copy\n",
        "- Viva Questions\n",
        "\n"
      ],
      "metadata": {
        "id": "mAWTW_cYIvwQ"
      }
    },
    {
      "cell_type": "markdown",
      "source": [
        "Stack append refers to the operation of adding an element to a stack data structure,typically at its \"top.\""
      ],
      "metadata": {
        "id": "mxsPWGWODkoT"
      }
    },
    {
      "cell_type": "markdown",
      "source": [
        "isalnum is a built-in string method used to determine if all characters within a string are alphanumeric."
      ],
      "metadata": {
        "id": "XTYgrk5GD6ST"
      }
    },
    {
      "cell_type": "markdown",
      "source": [
        " operator precedence dictates the order in which operators are evaluated within an expression containing multiple operators"
      ],
      "metadata": {
        "id": "raPZkYHJD92r"
      }
    },
    {
      "cell_type": "markdown",
      "source": [
        "A stack in Python is a linear data structure that operates on the principle of Last-In,"
      ],
      "metadata": {
        "id": "BeXJFfoRERHy"
      }
    },
    {
      "cell_type": "markdown",
      "source": [],
      "metadata": {
        "id": "LaqdsxQHEvrj"
      }
    }
  ]
}