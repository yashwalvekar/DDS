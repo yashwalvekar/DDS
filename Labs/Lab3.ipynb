{
  "nbformat": 4,
  "nbformat_minor": 0,
  "metadata": {
    "colab": {
      "provenance": [],
      "include_colab_link": true
    },
    "kernelspec": {
      "name": "python3",
      "display_name": "Python 3"
    },
    "language_info": {
      "name": "python"
    }
  },
  "cells": [
    {
      "cell_type": "markdown",
      "metadata": {
        "id": "view-in-github",
        "colab_type": "text"
      },
      "source": [
        "<a href=\"https://colab.research.google.com/github/yashwalvekar/DDS/blob/main/Labs/Lab3.ipynb\" target=\"_parent\"><img src=\"https://colab.research.google.com/assets/colab-badge.svg\" alt=\"Open In Colab\"/></a>"
      ]
    },
    {
      "cell_type": "markdown",
      "source": [
        "# 🧪 Lab 3: Postfix Expression Evaluation using Stack\n",
        "\n",
        "## 🎯 Objective:\n",
        "Evaluate a postfix expression using a stack (LIFO approach)\n",
        "\n",
        "📘 As per 303105202 BTech syllabus  \n",
        "👨‍💻 Languages: Python (runs in Colab) + C (compiled via GCC in Colab)\n",
        "\n",
        "---\n",
        "\n",
        "### 💡 Example:\n",
        "Postfix: `53+62/*`  \n",
        "= ((5 + 3) * (6 / 2))  \n",
        "= 8 * 3  \n",
        "= **24**\n",
        "\n",
        "We will use a **stack** to evaluate the postfix expression step-by-step.\n"
      ],
      "metadata": {
        "id": "rgjwZgAiSD3H"
      }
    },
    {
      "cell_type": "code",
      "execution_count": null,
      "metadata": {
        "id": "vGVRMI4RR_tM"
      },
      "outputs": [],
      "source": []
    },
    {
      "cell_type": "code",
      "source": [
        "def evaluate_postfix(expression):\n",
        "    stack = []\n",
        "\n",
        "    for char in expression:\n",
        "        if char.isdigit():\n",
        "            stack.append(int(char))\n",
        "        else:\n",
        "            b = stack.pop()\n",
        "            a = stack.pop()\n",
        "            if char == '+':\n",
        "                stack.append(a + b)\n",
        "            elif char == '-':\n",
        "                stack.append(a - b)\n",
        "            elif char == '*':\n",
        "                stack.append(a * b)\n",
        "            elif char == '/':\n",
        "                stack.append(a // b)  # Use // for integer division\n",
        "\n",
        "    return stack.pop()\n",
        "\n",
        "# 🔍 Test\n",
        "expr = \"53+62/*\"  # ((5+3)*(6/2)) = 8*3 = 24\n",
        "print(\"Postfix Expression:\", expr)\n",
        "print(\"Evaluated Result:\", evaluate_postfix(expr))\n"
      ],
      "metadata": {
        "id": "FPi04APCSHPz"
      },
      "execution_count": null,
      "outputs": []
    },
    {
      "cell_type": "markdown",
      "source": [
        "---\n",
        "\n",
        "## 🧠 Explanation:\n",
        "\n",
        "1. **Operands (numbers)** are pushed to the stack\n",
        "2. When an **operator** is found:\n",
        "   - Pop two values (right and left operands)\n",
        "   - Apply the operator\n",
        "   - Push the result back into the stack\n",
        "3. Final result is at the top of the stack\n",
        "\n",
        "Now let’s implement it in **C**!\n"
      ],
      "metadata": {
        "id": "ij7pdpRBSKMV"
      }
    },
    {
      "cell_type": "code",
      "source": [
        "# C code for postfix evaluation\n",
        "c_code = \"\"\"\n",
        "#include <stdio.h>\n",
        "#include <ctype.h>\n",
        "#define SIZE 100\n",
        "\n",
        "int stack[SIZE];\n",
        "int top = -1;\n",
        "\n",
        "void push(int value) {\n",
        "    stack[++top] = value;\n",
        "}\n",
        "\n",
        "int pop() {\n",
        "    return stack[top--];\n",
        "}\n",
        "\n",
        "int evaluate_postfix(char* expr) {\n",
        "    int i, a, b;\n",
        "    for (i = 0; expr[i] != '\\\\0'; i++) {\n",
        "        char ch = expr[i];\n",
        "\n",
        "        if (isdigit(ch)) {\n",
        "            push(ch - '0'); // Convert char to int\n",
        "        } else {\n",
        "            b = pop();\n",
        "            a = pop();\n",
        "            switch (ch) {\n",
        "                case '+': push(a + b); break;\n",
        "                case '-': push(a - b); break;\n",
        "                case '*': push(a * b); break;\n",
        "                case '/': push(a / b); break;\n",
        "            }\n",
        "        }\n",
        "    }\n",
        "    return pop();\n",
        "}\n",
        "\n",
        "int main() {\n",
        "    char expr[] = \"53+62/*\";\n",
        "    printf(\"Postfix Expression: %s\\\\n\", expr);\n",
        "    printf(\"Evaluated Result: %d\\\\n\", evaluate_postfix(expr));\n",
        "    return 0;\n",
        "}\n",
        "\"\"\"\n",
        "\n",
        "with open(\"lab3_postfix_eval.c\", \"w\") as f:\n",
        "    f.write(c_code)\n"
      ],
      "metadata": {
        "id": "qbxKL038SM_t"
      },
      "execution_count": null,
      "outputs": []
    },
    {
      "cell_type": "code",
      "source": [
        "!gcc lab3_postfix_eval.c -o lab3\n"
      ],
      "metadata": {
        "id": "jL1OHNXsSPdd"
      },
      "execution_count": null,
      "outputs": []
    },
    {
      "cell_type": "code",
      "source": [
        "!./lab3\n"
      ],
      "metadata": {
        "id": "Bw5LzGLGSRMv"
      },
      "execution_count": null,
      "outputs": []
    },
    {
      "cell_type": "code",
      "source": [
        "---\n",
        "\n",
        "## ✅ Summary:\n",
        "\n",
        "- Used a **stack** to evaluate a postfix (Reverse Polish) expression\n",
        "- Worked with both **Python** and **C**\n",
        "- Verified expressions like `53+62/*` step-by-step\n",
        "\n",
        "---\n",
        "\n",
        "## 📘 Viva Questions:\n",
        "1. Why is postfix easier to evaluate than infix?\n",
        "2. What data structure is used to evaluate postfix expressions?\n",
        "3. How does the evaluation order work?\n",
        "4. What happens if an invalid expression is given?\n",
        "\n",
        "---\n",
        "\n",
        "⏭️ Next Lab: **Lab 4 – Tower of Hanoi using Stack or Recursion**\n"
      ],
      "metadata": {
        "id": "aokrsPbMSUT5"
      },
      "execution_count": null,
      "outputs": []
    }
  ]
}