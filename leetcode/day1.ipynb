{
  "nbformat": 4,
  "nbformat_minor": 0,
  "metadata": {
    "colab": {
      "provenance": [],
      "authorship_tag": "ABX9TyOOT13bTnIo1o7UVlEOKMmk",
      "include_colab_link": true
    },
    "kernelspec": {
      "name": "python3",
      "display_name": "Python 3"
    },
    "language_info": {
      "name": "python"
    }
  },
  "cells": [
    {
      "cell_type": "markdown",
      "metadata": {
        "id": "view-in-github",
        "colab_type": "text"
      },
      "source": [
        "<a href=\"https://colab.research.google.com/github/yashwalvekar/DDS/blob/main/leetcode/day1.ipynb\" target=\"_parent\"><img src=\"https://colab.research.google.com/assets/colab-badge.svg\" alt=\"Open In Colab\"/></a>"
      ]
    },
    {
      "cell_type": "code",
      "execution_count": null,
      "metadata": {
        "colab": {
          "base_uri": "https://localhost:8080/"
        },
        "id": "NUiaM2Wy3cZM",
        "outputId": "83598fd1-c7ec-448a-af0c-e8c956c74195"
      },
      "outputs": [
        {
          "output_type": "stream",
          "name": "stdout",
          "text": [
            "0\n",
            "3\n"
          ]
        }
      ],
      "source": [
        "l = [3,2,2,3]\n",
        "t =\n",
        "for i in range (len(l)):\n",
        "  if t== l[i]:\n",
        "    print(i)"
      ]
    },
    {
      "cell_type": "code",
      "source": [
        "l =[3,2,2,3]\n",
        "t=3\n",
        "k=0\n",
        "for i in range(len(l)):\n",
        "  if l[i] != t:\n",
        "    l[k] = l[i]\n",
        "    k += 1\n",
        "print(k)\n",
        "print(l)"
      ],
      "metadata": {
        "colab": {
          "base_uri": "https://localhost:8080/"
        },
        "id": "OdDOd84T4_9H",
        "outputId": "baa06d56-5e34-431b-852d-473c93c4de1d"
      },
      "execution_count": null,
      "outputs": [
        {
          "output_type": "stream",
          "name": "stdout",
          "text": [
            "2\n",
            "[2, 2, 2, 3]\n"
          ]
        }
      ]
    }
  ]
}