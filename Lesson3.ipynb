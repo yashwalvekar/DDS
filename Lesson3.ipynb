{
  "cells": [
    {
      "cell_type": "markdown",
      "metadata": {
        "id": "view-in-github",
        "colab_type": "text"
      },
      "source": [
        "<a href=\"https://colab.research.google.com/github/yashwalvekar/DDS/blob/main/Lesson3.ipynb\" target=\"_parent\"><img src=\"https://colab.research.google.com/assets/colab-badge.svg\" alt=\"Open In Colab\"/></a>"
      ]
    },
    {
      "cell_type": "markdown",
      "id": "d913e148",
      "metadata": {
        "id": "d913e148"
      },
      "source": [
        "# 📘 Arrays, Structures, Unions, and Self-Referential Structures - DSA Notes"
      ]
    },
    {
      "cell_type": "markdown",
      "id": "c414e219",
      "metadata": {
        "id": "c414e219"
      },
      "source": [
        "## 🔶 1. Arrays\n",
        "An **array** is a collection of elements of the same data type stored in **contiguous memory locations**.\n",
        "\n",
        "### ✅ Declaration:\n",
        "```c\n",
        "int arr[10];\n",
        "float marks[5];\n",
        "```\n",
        "\n",
        "### ✅ Characteristics:\n",
        "- Static in size\n",
        "- Fast access via index\n",
        "- Memory-efficient for fixed-size data\n",
        "- 0-based indexing\n",
        "\n",
        "### ✅ Types:\n",
        "- **1D Array**: `int a[5];`\n",
        "- **2D Array (Matrix)**: `int b[3][3];`\n",
        "- **Multidimensional Array**: `int c[2][3][4];`\n",
        "\n",
        "### ✅ Common Operations:\n",
        "- Traversal\n",
        "- Insertion\n",
        "- Deletion\n",
        "- Searching (Linear/Binary)\n",
        "- Sorting (Bubble, Selection, Insertion)"
      ]
    },
    {
      "cell_type": "markdown",
      "id": "11c394bf",
      "metadata": {
        "id": "11c394bf"
      },
      "source": [
        "## 🔶 2. Structures (`struct`)\n",
        "A **structure** is a user-defined data type that allows combining data items of **different types**.\n",
        "\n",
        "### ✅ Syntax:\n",
        "```c\n",
        "struct Student {\n",
        "    int roll;\n",
        "    char name[50];\n",
        "    float marks;\n",
        "};\n",
        "```\n",
        "\n",
        "### ✅ Usage:\n",
        "```c\n",
        "struct Student s1;\n",
        "s1.roll = 1;\n",
        "strcpy(s1.name, \"Ram\");\n",
        "s1.marks = 89.5;\n",
        "```\n",
        "\n",
        "### ✅ Features:\n",
        "- Used to group different data types\n",
        "- Helps in modeling real-world entities\n",
        "- Memory allocated in sequence (non-shared)"
      ]
    },
    {
      "cell_type": "markdown",
      "id": "66363366",
      "metadata": {
        "id": "66363366"
      },
      "source": [
        "## 🔶 3. Unions\n",
        "A **union** is similar to a structure, but all members **share the same memory location**.\n",
        "\n",
        "### ✅ Syntax:\n",
        "```c\n",
        "union Data {\n",
        "    int i;\n",
        "    float f;\n",
        "    char str[20];\n",
        "};\n",
        "```\n",
        "\n",
        "### ✅ Example:\n",
        "```c\n",
        "union Data d;\n",
        "d.i = 10;\n",
        "printf(\"%d\", d.i);\n",
        "```\n",
        "\n",
        "### ✅ Features:\n",
        "- Only **one member** can hold a value at a time\n",
        "- Memory size = size of largest member\n",
        "- Saves memory when variables are not used simultaneously"
      ]
    },
    {
      "cell_type": "markdown",
      "id": "77d05d6b",
      "metadata": {
        "id": "77d05d6b"
      },
      "source": [
        "## 🔶 4. Self-Referential Structures\n",
        "A **self-referential structure** includes a pointer to the **same type** as itself.\n",
        "\n",
        "### ✅ Used in:\n",
        "- Linked Lists\n",
        "- Trees\n",
        "- Graphs\n",
        "\n",
        "### ✅ Syntax:\n",
        "```c\n",
        "struct Node {\n",
        "    int data;\n",
        "    struct Node *next;\n",
        "};\n",
        "```\n",
        "\n",
        "### ✅ Use Case:\n",
        "```c\n",
        "struct Node *head = NULL;\n",
        "head = (struct Node*) malloc(sizeof(struct Node));\n",
        "head->data = 10;\n",
        "head->next = NULL;\n",
        "```\n",
        "\n",
        "### ✅ Advantages:\n",
        "- Essential for dynamic data structures\n",
        "- Supports recursion and chaining of data"
      ]
    },
    {
      "cell_type": "markdown",
      "source": [
        "# What is a static Array?\n",
        "```\n",
        "A static array is a fixed\n",
        "length containercontaining n\n",
        "elements indexable\n",
        "from the range [0, n-1].\n",
        "```\n",
        "#### Q: What is meant by being 'indexable'?\n",
        "\n",
        "A: This means that each slot/index in the array can be referenced with a number"
      ],
      "metadata": {
        "id": "CkPCb6T9avol"
      },
      "id": "CkPCb6T9avol"
    },
    {
      "cell_type": "markdown",
      "source": [
        "#### Q: When and where is a static Array used?\n",
        "\n",
        "1) Storing and accessing sequential data\n",
        "\n",
        "2) Temporarily storing objects\n",
        "\n",
        "3) Used by 10 routines as buffers\n",
        "\n",
        "4) Lookup tables and inverse lookup tables\n",
        "\n",
        "5) Can be used to return multiple values from a function\n",
        "\n",
        "6) Used in dynamic programming to cache answers to subproblems"
      ],
      "metadata": {
        "id": "f8at-fmabzfr"
      },
      "id": "f8at-fmabzfr"
    },
    {
      "cell_type": "markdown",
      "source": [
        "\n",
        "![](https://raw.githubusercontent.com/anandchauhan21/Desing_of_Data_Structures/refs/heads/main/media/complexity.png)"
      ],
      "metadata": {
        "id": "8PGLLJiDnigX"
      },
      "id": "8PGLLJiDnigX"
    },
    {
      "cell_type": "markdown",
      "source": [
        "## Dynamic Array\n",
        "\n",
        "Q: How can we implement a dynamic array?\n",
        "\n",
        "A: One way is to use a static array!\n",
        "\n",
        "1) Create a static array with an initial capacity.\n",
        "\n",
        "2) Add elements to the underlying static array, keeping track of the number of elements.\n",
        "\n",
        "3) If adding another element will exceed the capacity, then create a new static array with twice the capacity and copy the original elements into it"
      ],
      "metadata": {
        "id": "UeEGTgjNnZkU"
      },
      "id": "UeEGTgjNnZkU"
    },
    {
      "cell_type": "markdown",
      "source": [
        "\n",
        "\n",
        "![](https://media0.giphy.com/media/v1.Y2lkPTc5MGI3NjExMXZidW5pNnBzOTJkMmVhMnpwZTRtbG53ZTk4NHFiNHB6ZWJlcjJkYiZlcD12MV9pbnRlcm5hbF9naWZfYnlfaWQmY3Q9Zw/ZqlvCTNHpqrio/giphy.gif)"
      ],
      "metadata": {
        "id": "KjBJ6XH0eoL_"
      },
      "id": "KjBJ6XH0eoL_"
    },
    {
      "cell_type": "markdown",
      "source": [],
      "metadata": {
        "id": "hpwsXhBHnYHY"
      },
      "id": "hpwsXhBHnYHY"
    },
    {
      "cell_type": "markdown",
      "id": "1d3ee50a",
      "metadata": {
        "id": "1d3ee50a"
      },
      "source": [
        "## 📌 Summary Table\n",
        "| Feature                     | Array     | Structure       | Union           | Self-Referential Structure |\n",
        "|----------------------------|-----------|------------------|------------------|-----------------------------|\n",
        "| Data Type                  | Same      | Different         | Different         | Can point to same type      |\n",
        "| Memory Allocation          | Contiguous| Sequential        | Shared            | Dynamic via pointers        |\n",
        "| Access Time                | Fast      | Medium            | Medium            | Depends on structure        |\n",
        "| Usage                      | Indexed   | Grouped data      | Efficient memory  | Dynamic data structures     |"
      ]
    },
    {
      "cell_type": "markdown",
      "id": "c31a78bb",
      "metadata": {
        "id": "c31a78bb"
      },
      "source": [
        "## 📚 Applications in DSA\n",
        "- **Arrays**: Sorting, Searching, Matrix operations\n",
        "- **Structures**: Records like employee, student, etc.\n",
        "- **Unions**: Optimized memory for embedded systems\n",
        "- **Self-Referential Structures**: Linked Lists, Trees, Stacks, Queues"
      ]
    }
  ],
  "metadata": {
    "colab": {
      "provenance": [],
      "include_colab_link": true
    }
  },
  "nbformat": 4,
  "nbformat_minor": 5
}