{
  "nbformat": 4,
  "nbformat_minor": 0,
  "metadata": {
    "colab": {
      "provenance": [],
      "include_colab_link": true
    },
    "kernelspec": {
      "name": "python3",
      "display_name": "Python 3"
    },
    "language_info": {
      "name": "python"
    }
  },
  "cells": [
    {
      "cell_type": "markdown",
      "metadata": {
        "id": "view-in-github",
        "colab_type": "text"
      },
      "source": [
        "<a href=\"https://colab.research.google.com/github/yashwalvekar/DDS/blob/main/Lesson1.ipynb\" target=\"_parent\"><img src=\"https://colab.research.google.com/assets/colab-badge.svg\" alt=\"Open In Colab\"/></a>"
      ]
    },
    {
      "cell_type": "markdown",
      "source": [
        "# 📘 Lesson 1: Course Introduction & Importance of Data Structures\n",
        "\n",
        "---\n",
        "\n",
        "## 🎯 Objectives:\n",
        "- Understand what data structures are\n",
        "- Learn why they are important in programming\n",
        "- Implement basic data structure operations in both Python and C\n",
        "\n",
        "---\n",
        "\n",
        "## 📚 What is a Data Structure?\n",
        "\n",
        "A **data structure** is a way of organizing and storing data in memory to perform operations efficiently.\n",
        "\n",
        "> Real-world analogy: A bookshelf helps you organize books. Similarly, a data structure helps organize data for easy access and modification.\n",
        "\n",
        "---\n",
        "\n",
        "## ❓ Why Are Data Structures Important?\n",
        "- Organize data efficiently\n",
        "- Improve speed and memory usage\n",
        "- Make complex operations easier\n",
        "- Foundation for algorithms, applications, and system design\n"
      ],
      "metadata": {
        "id": "f_Ekvg1RGyC3"
      }
    },
    {
      "cell_type": "code",
      "source": [
        "# ✅ Python: Store and search student names using a list\n",
        "\n",
        "# Create a list of students\n",
        "students = [\"Ali\", \"Sara\", \"Zaid\"]\n",
        "\n",
        "# Add a new student\n",
        "students.append(\"Hina\")\n",
        "\n",
        "# Search for a student\n",
        "search_name = \"Zaid\"\n",
        "if search_name in students:\n",
        "    print(f\"{search_name} found at index {students.index(search_name)}\")\n",
        "else:\n",
        "    print(f\"{search_name} not found\")\n",
        "\n",
        "# Display all students\n",
        "print(\"📋 Student List:\", students)\n"
      ],
      "metadata": {
        "colab": {
          "base_uri": "https://localhost:8080/"
        },
        "id": "8gVzbb-MG0Su",
        "outputId": "d1e2637e-e58e-4887-e984-c9fc6e54c458"
      },
      "execution_count": null,
      "outputs": [
        {
          "output_type": "stream",
          "name": "stdout",
          "text": [
            "Zaid found at index 2\n",
            "📋 Student List: ['Ali', 'Sara', 'Zaid', 'Hina']\n"
          ]
        }
      ]
    },
    {
      "cell_type": "markdown",
      "source": [
        "---\n",
        "\n",
        "## 🧠 Explanation:\n",
        "\n",
        "- We used a **Python list**, which works like a dynamic array.\n",
        "- Performed common data structure operations:\n",
        "  - Insertion: `append()`\n",
        "  - Search: `in`, `index()`\n",
        "  - Traversal: `print()`\n",
        "\n",
        "Let’s now do the same using C.\n",
        "\n",
        "---\n",
        "\n",
        "## ⚙️ How to Run C Code in Google Colab\n",
        "\n",
        "Google Colab allows you to compile and run C code using GCC.\n",
        "We will:\n",
        "1. Write C code to a file\n",
        "2. Compile it using `gcc`\n",
        "3. Run the compiled program\n"
      ],
      "metadata": {
        "id": "7Ay4yyf5G3yE"
      }
    },
    {
      "cell_type": "code",
      "source": [
        "# ✅ Step 1: Write the C code to a file\n",
        "c_code = \"\"\"\n",
        "#include <stdio.h>\n",
        "#include <string.h>\n",
        "\n",
        "int main() {\n",
        "    char students[4][20] = {\"Ali\", \"Sara\", \"Zaid\"};\n",
        "    strcpy(students[3], \"Hina\"); // Add new student\n",
        "\n",
        "    char search[] = \"Zaid\";\n",
        "    int found = 0;\n",
        "\n",
        "    // Search for the student\n",
        "    for (int i = 0; i < 4; i++) {\n",
        "        if (strcmp(students[i], search) == 0) {\n",
        "            printf(\"%s found at index %d\\\\n\", search, i);\n",
        "            found = 1;\n",
        "            break;\n",
        "        }\n",
        "    }\n",
        "\n",
        "    if (!found)\n",
        "        printf(\"%s not found\\\\n\", search);\n",
        "\n",
        "    // Display all student names\n",
        "    printf(\"Student List:\\\\n\");\n",
        "    for (int i = 0; i < 4; i++) {\n",
        "        printf(\"%s\\\\n\", students[i]);\n",
        "    }\n",
        "\n",
        "    return 0;\n",
        "}\n",
        "\"\"\"\n",
        "\n",
        "# Write to a C file\n",
        "with open(\"lesson1.c\", \"w\") as f:\n",
        "    f.write(c_code)\n"
      ],
      "metadata": {
        "id": "soJiMH9BG5O2"
      },
      "execution_count": null,
      "outputs": []
    },
    {
      "cell_type": "code",
      "source": [
        "# ✅ Step 2: Compile the C file using GCC\n",
        "!gcc lesson1.c -o lesson1\n"
      ],
      "metadata": {
        "id": "7um0VsfQG71J"
      },
      "execution_count": null,
      "outputs": []
    },
    {
      "cell_type": "code",
      "source": [
        "# ✅ Step 3: Run the compiled C program\n",
        "!./lesson1\n"
      ],
      "metadata": {
        "colab": {
          "base_uri": "https://localhost:8080/"
        },
        "id": "p-WqywO_G8zo",
        "outputId": "9c069829-76ed-4f0b-b7f7-b67e90a73373"
      },
      "execution_count": null,
      "outputs": [
        {
          "output_type": "stream",
          "name": "stdout",
          "text": [
            "Zaid found at index 2\n",
            "Student List:\n",
            "Ali\n",
            "Sara\n",
            "Zaid\n",
            "Hina\n"
          ]
        }
      ]
    },
    {
      "cell_type": "markdown",
      "source": [
        "---\n",
        "\n",
        "## ✅ Summary\n",
        "\n",
        "- Data structures allow us to organize data efficiently.\n",
        "- Python provides built-in data structures like lists with dynamic memory.\n",
        "- C requires manual management but gives full control over memory layout.\n",
        "- Understanding both helps in mastering logic and system-level thinking.\n",
        "\n",
        "---\n",
        "\n",
        "### ⏭️ Coming Up Next:  \n",
        "**Lesson 2**: Primitive vs Non-Primitive Data Structures – with diagrams and real examples!\n"
      ],
      "metadata": {
        "id": "Jf3nnEo2G-m_"
      }
    }
  ]
}